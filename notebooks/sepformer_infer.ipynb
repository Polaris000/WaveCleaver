{
 "cells": [
  {
   "cell_type": "code",
   "execution_count": 1,
   "metadata": {},
   "outputs": [
    {
     "name": "stdout",
     "output_type": "stream",
     "text": [
      "Defaulting to user installation because normal site-packages is not writeable\n",
      "Collecting speechbrain\n",
      "  Downloading speechbrain-1.0.0-py3-none-any.whl (760 kB)\n",
      "\u001b[K     |████████████████████████████████| 760 kB 5.7 MB/s eta 0:00:01\n",
      "\u001b[?25hCollecting torchaudio\n",
      "  Downloading torchaudio-2.3.0-cp39-cp39-macosx_11_0_arm64.whl (1.8 MB)\n",
      "\u001b[K     |████████████████████████████████| 1.8 MB 10.8 MB/s eta 0:00:01\n",
      "\u001b[?25hRequirement already satisfied: numpy in /Users/polaris000/Library/Python/3.9/lib/python/site-packages (from speechbrain) (1.24.3)\n",
      "Requirement already satisfied: sentencepiece in /Users/polaris000/Library/Python/3.9/lib/python/site-packages (from speechbrain) (0.1.99)\n",
      "Requirement already satisfied: torch>=1.9 in /Users/polaris000/Library/Python/3.9/lib/python/site-packages (from speechbrain) (2.1.2)\n",
      "Requirement already satisfied: packaging in /Users/polaris000/Library/Python/3.9/lib/python/site-packages (from speechbrain) (23.1)\n",
      "Requirement already satisfied: tqdm in /Users/polaris000/Library/Python/3.9/lib/python/site-packages (from speechbrain) (4.66.1)\n",
      "Requirement already satisfied: joblib in /Users/polaris000/Library/Python/3.9/lib/python/site-packages (from speechbrain) (1.3.2)\n",
      "Requirement already satisfied: scipy in /Users/polaris000/Library/Python/3.9/lib/python/site-packages (from speechbrain) (1.11.2)\n",
      "Collecting hyperpyyaml\n",
      "  Downloading HyperPyYAML-1.2.2-py3-none-any.whl (16 kB)\n",
      "Requirement already satisfied: huggingface-hub in /Users/polaris000/Library/Python/3.9/lib/python/site-packages (from speechbrain) (0.19.4)\n",
      "Requirement already satisfied: sympy in /Users/polaris000/Library/Python/3.9/lib/python/site-packages (from torch>=1.9->speechbrain) (1.12)\n",
      "Requirement already satisfied: typing-extensions in /Users/polaris000/Library/Python/3.9/lib/python/site-packages (from torch>=1.9->speechbrain) (4.10.0)\n",
      "Requirement already satisfied: networkx in /Users/polaris000/Library/Python/3.9/lib/python/site-packages (from torch>=1.9->speechbrain) (3.2.1)\n",
      "Requirement already satisfied: fsspec in /Users/polaris000/Library/Python/3.9/lib/python/site-packages (from torch>=1.9->speechbrain) (2023.10.0)\n",
      "Requirement already satisfied: jinja2 in /Users/polaris000/Library/Python/3.9/lib/python/site-packages (from torch>=1.9->speechbrain) (3.1.2)\n",
      "Requirement already satisfied: filelock in /Users/polaris000/Library/Python/3.9/lib/python/site-packages (from torch>=1.9->speechbrain) (3.13.1)\n",
      "Requirement already satisfied: pyyaml>=5.1 in /Users/polaris000/Library/Python/3.9/lib/python/site-packages (from huggingface-hub->speechbrain) (6.0.1)\n",
      "Requirement already satisfied: requests in /Users/polaris000/Library/Python/3.9/lib/python/site-packages (from huggingface-hub->speechbrain) (2.31.0)\n",
      "Collecting ruamel.yaml>=0.17.28\n",
      "  Downloading ruamel.yaml-0.18.6-py3-none-any.whl (117 kB)\n",
      "\u001b[K     |████████████████████████████████| 117 kB 19.5 MB/s eta 0:00:01\n",
      "\u001b[?25hCollecting ruamel.yaml.clib>=0.2.7\n",
      "  Downloading ruamel.yaml.clib-0.2.8-cp39-cp39-macosx_12_0_arm64.whl (134 kB)\n",
      "\u001b[K     |████████████████████████████████| 134 kB 16.1 MB/s eta 0:00:01\n",
      "\u001b[?25hRequirement already satisfied: MarkupSafe>=2.0 in /Users/polaris000/Library/Python/3.9/lib/python/site-packages (from jinja2->torch>=1.9->speechbrain) (2.1.3)\n",
      "Requirement already satisfied: urllib3<3,>=1.21.1 in /Users/polaris000/Library/Python/3.9/lib/python/site-packages (from requests->huggingface-hub->speechbrain) (1.26.16)\n",
      "Requirement already satisfied: charset-normalizer<4,>=2 in /Users/polaris000/Library/Python/3.9/lib/python/site-packages (from requests->huggingface-hub->speechbrain) (3.2.0)\n",
      "Requirement already satisfied: certifi>=2017.4.17 in /Users/polaris000/Library/Python/3.9/lib/python/site-packages (from requests->huggingface-hub->speechbrain) (2023.7.22)\n",
      "Requirement already satisfied: idna<4,>=2.5 in /Users/polaris000/Library/Python/3.9/lib/python/site-packages (from requests->huggingface-hub->speechbrain) (3.4)\n",
      "Requirement already satisfied: mpmath>=0.19 in /Users/polaris000/Library/Python/3.9/lib/python/site-packages (from sympy->torch>=1.9->speechbrain) (1.3.0)\n",
      "Collecting torch>=1.9\n",
      "  Downloading torch-2.3.0-cp39-none-macosx_11_0_arm64.whl (61.0 MB)\n",
      "\u001b[K     |████████████████████████████████| 61.0 MB 35.5 MB/s eta 0:00:01\n",
      "\u001b[?25hInstalling collected packages: ruamel.yaml.clib, torch, ruamel.yaml, torchaudio, hyperpyyaml, speechbrain\n",
      "  Attempting uninstall: torch\n",
      "    Found existing installation: torch 2.1.2\n",
      "    Uninstalling torch-2.1.2:\n",
      "      Successfully uninstalled torch-2.1.2\n",
      "\u001b[31mERROR: pip's dependency resolver does not currently take into account all the packages that are installed. This behaviour is the source of the following dependency conflicts.\n",
      "torchvision 0.16.2 requires torch==2.1.2, but you have torch 2.3.0 which is incompatible.\u001b[0m\n",
      "Successfully installed hyperpyyaml-1.2.2 ruamel.yaml-0.18.6 ruamel.yaml.clib-0.2.8 speechbrain-1.0.0 torch-2.3.0 torchaudio-2.3.0\n",
      "\u001b[33mWARNING: You are using pip version 21.2.4; however, version 24.0 is available.\n",
      "You should consider upgrading via the '/Library/Developer/CommandLineTools/usr/bin/python3 -m pip install --upgrade pip' command.\u001b[0m\n"
     ]
    }
   ],
   "source": [
    "!pip3 install speechbrain"
   ]
  },
  {
   "cell_type": "code",
   "execution_count": null,
   "metadata": {},
   "outputs": [],
   "source": []
  }
 ],
 "metadata": {
  "kernelspec": {
   "display_name": "Python 3",
   "language": "python",
   "name": "python3"
  },
  "language_info": {
   "codemirror_mode": {
    "name": "ipython",
    "version": 3
   },
   "file_extension": ".py",
   "mimetype": "text/x-python",
   "name": "python",
   "nbconvert_exporter": "python",
   "pygments_lexer": "ipython3",
   "version": "3.9.6"
  }
 },
 "nbformat": 4,
 "nbformat_minor": 2
}
